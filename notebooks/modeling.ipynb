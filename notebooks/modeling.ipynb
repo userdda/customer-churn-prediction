# 模型建模与评估
import pandas as pd
from sklearn.model_selection import train_test_split
from sklearn.preprocessing import StandardScaler
from sklearn.linear_model import LogisticRegression
from sklearn.ensemble import RandomForestClassifier
from sklearn.metrics import accuracy_score, recall_score, classification_report

# 加载数据（假设 preprocessing.py 已处理过）
df = pd.read_csv("../data/processed_users.csv")

# 分割数据集
X = df.drop("churn", axis=1)
y = df["churn"]

X_train, X_test, y_train, y_test = train_test_split(
    X, y, test_size=0.2, random_state=42, stratify=y
)

# 特征标准化（仅逻辑回归用）
scaler = StandardScaler()
X_train_scaled = scaler.fit_transform(X_train)
X_test_scaled = scaler.transform(X_test)

# 逻辑回归
log_reg = LogisticRegression(max_iter=1000)
log_reg.fit(X_train_scaled, y_train)
y_pred_lr = log_reg.predict(X_test_scaled)

print("逻辑回归 Accuracy:", accuracy_score(y_test, y_pred_lr))
print("逻辑回归 Recall:", recall_score(y_test, y_pred_lr))
print(classification_report(y_test, y_pred_lr))

# 随机森林
rf = RandomForestClassifier(n_estimators=200, random_state=42)
rf.fit(X_train, y_train)
y_pred_rf = rf.predict(X_test)

print("随机森林 Accuracy:", accuracy_score(y_test, y_pred_rf))
print("随机森林 Recall:", recall_score(y_test, y_pred_rf))
print(classification_report(y_test, y_pred_rf))

# 特征重要性
import matplotlib.pyplot as plt
import seaborn as sns

feature_importance = pd.Series(rf.feature_importances_, index=X.columns)
top_features = feature_importance.sort_values(ascending=False).head(10)

plt.figure(figsize=(8,6))
sns.barplot(x=top_features, y=top_features.index)
plt.title("Top 10 Feature Importance (RandomForest)")
plt.savefig("../results/feature_importance.png")
plt.show()
