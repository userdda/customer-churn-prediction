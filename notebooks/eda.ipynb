# EDA: 探索性数据分析
import pandas as pd
import matplotlib.pyplot as plt
import seaborn as sns

# 加载数据
df = pd.read_csv("../data/users_behavior.csv")

# 查看基本信息
print(df.shape)
print(df.info())
print(df.describe())

# 缺失值统计
print(df.isnull().sum())

# 类别分布（目标变量：churn）
sns.countplot(x="churn", data=df)
plt.title("Churn Distribution")
plt.savefig("../results/churn_distribution.png")
plt.show()

# 用户年龄分布
sns.histplot(df["age"], bins=20, kde=True)
plt.title("Age Distribution")
plt.savefig("../results/age_distribution.png")
plt.show()

# 相关性矩阵
corr = df.corr()
plt.figure(figsize=(12,8))
sns.heatmap(corr, annot=False, cmap="coolwarm")
plt.title("Feature Correlation Heatmap")
plt.savefig("../results/correlation_heatmap.png")
plt.show()
